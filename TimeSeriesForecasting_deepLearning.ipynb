{
  "nbformat": 4,
  "nbformat_minor": 0,
  "metadata": {
    "colab": {
      "name": "TimeSeriesForecasting_deepLearning.ipynb",
      "provenance": [],
      "collapsed_sections": []
    },
    "kernelspec": {
      "name": "python3",
      "display_name": "Python 3"
    },
    "language_info": {
      "name": "python"
    }
  },
  "cells": [
    {
      "cell_type": "code",
      "execution_count": 1,
      "metadata": {
        "id": "GYJ-LZsNShxN"
      },
      "outputs": [],
      "source": [
        "import numpy as np\n",
        "import pandas as pd"
      ]
    },
    {
      "cell_type": "code",
      "source": [
        "#Dekh bhai location is always lagging behind len vaues by 1 because indexing starts from 0 in python\n",
        "# if location_id +1 is greater than length(sequence) then we need to stop\n",
        "\n",
        "#Location id = ii +context_length (till here where the Y need to start from) + prediction_length (end_id total)\n",
        "\n",
        "def generate_sequence(time_series,context_length,prediction_length,univariate=True):\n",
        "  # ii=0\n",
        "  xx=[]\n",
        "  yy=[]\n",
        "  for ii in range(len(time_series)):\n",
        "    x_end_idx=ii+context_length#This is also y_start_idx\n",
        "    y_end_idx=ii+context_length+prediction_length\n",
        "    if (y_end_idx>len(time_series)):#location id  should not be more than length of the series\n",
        "      break\n",
        "    temp_x=time_series[ii:x_end_idx]\n",
        "    temp_y=time_series[x_end_idx:y_end_idx]#This is the bottle neck we can allow y_end_idx to be lesss than equal to 6, thus we need to break the loop accordingly\n",
        "\n",
        "    xx.append(temp_x)\n",
        "    yy.append(temp_y)\n",
        "\n",
        "  if univariate:\n",
        "    xx=np.array(xx)\n",
        "    xx=xx.reshape(xx.shape[0],xx.shape[1],1)\n",
        "\n",
        "  return (xx,yy)\n",
        "\n",
        "generate_sequence(np.arange(6)+1,2,3)"
      ],
      "metadata": {
        "colab": {
          "base_uri": "https://localhost:8080/"
        },
        "id": "Cm-AOI4sSrmh",
        "outputId": "b74649a7-c32a-49a2-d7e6-8fdc59744aaf"
      },
      "execution_count": 34,
      "outputs": [
        {
          "output_type": "execute_result",
          "data": {
            "text/plain": [
              "(array([[[1],\n",
              "         [2]],\n",
              " \n",
              "        [[2],\n",
              "         [3]]]), [array([3, 4, 5]), array([4, 5, 6])])"
            ]
          },
          "metadata": {},
          "execution_count": 34
        }
      ]
    },
    {
      "cell_type": "code",
      "source": [
        "# if end_ix > len(sequence)-1:\n",
        "# break\n",
        "# # gather input and output parts of the pattern\n",
        "# seq_x, seq_y = sequence[i:end_ix], sequence[end_ix]\n",
        "#Here the bottleneck is end_ids as the end_idx id must be present in the array thus end_idx is allowed to have a value till len(A)-1##### Compare with the previous block bottleneck"
      ],
      "metadata": {
        "id": "9yoT5o4XWkV3"
      },
      "execution_count": 3,
      "outputs": []
    },
    {
      "cell_type": "markdown",
      "source": [
        "## The Input of CNN and LSTM must be 3-D thus some concerns associated with the shape of the X array comes up"
      ],
      "metadata": {
        "id": "VurHUHE9XyuF"
      }
    },
    {
      "cell_type": "code",
      "source": [
        "## Sample is the observation it is comprised of time_features that are number of time steps to be considered in a sample/observation\n",
        "### The catch is we can have time-steps of multiple features (sales of product1 sales of product2 observed across 10 timesteps)\n",
        "# (Sample, time_steps,features)\n",
        "\n",
        "\n",
        "##Plus there can be an addition of number of lstm/rnn layers in the first unit that is how many systems we intend to use in order to learn about the sequence\n",
        "\n",
        "\n",
        "xx,yy=generate_sequence(np.arange(10)+1,2,3)\n",
        "xx=np.array(xx)\n",
        "xx=xx.reshape(xx.shape[0],xx.shape[1],1)#we know only one feature and 2 timestaps are used for each instance\n",
        "xx.shape"
      ],
      "metadata": {
        "id": "fQ9nqa0hVLHh",
        "colab": {
          "base_uri": "https://localhost:8080/"
        },
        "outputId": "9e6fe9b4-38ce-420a-d4d0-dafd5be3e630"
      },
      "execution_count": 4,
      "outputs": [
        {
          "output_type": "execute_result",
          "data": {
            "text/plain": [
              "(6, 2, 1)"
            ]
          },
          "metadata": {},
          "execution_count": 4
        }
      ]
    },
    {
      "cell_type": "code",
      "source": [
        ""
      ],
      "metadata": {
        "id": "31tUWcigZ9F2"
      },
      "execution_count": 4,
      "outputs": []
    },
    {
      "cell_type": "markdown",
      "source": [
        "## Univariate time series \n",
        "\n",
        "A MLP based modle can be constructed for univariate time Series where we make a decsion that n number of observations are required to predict the upcoming observation \n",
        "\n",
        "Prediction length is 1 and context length can be decided using hyperparameter tuning "
      ],
      "metadata": {
        "id": "moSRON3kD6c4"
      }
    },
    {
      "cell_type": "code",
      "source": [
        "temp_signal=np.round(\n",
        "    np.sin(\n",
        "    ((2*np.pi)/10)*(np.arange(30))\n",
        "    ),2)\n",
        "length_signal=len(temp_signal)\n",
        "\n",
        "temp_noise=np.random.normal(loc=0.5,scale=0.25,size=(length_signal,))\n",
        "\n",
        "t_s=temp_signal+temp_noise"
      ],
      "metadata": {
        "id": "eG9VSf0FaJNN"
      },
      "execution_count": 28,
      "outputs": []
    },
    {
      "cell_type": "code",
      "source": [
        "import matplotlib.pyplot as plt\n",
        "plt.plot(t_s)"
      ],
      "metadata": {
        "colab": {
          "base_uri": "https://localhost:8080/",
          "height": 282
        },
        "id": "LCorVveJEVOl",
        "outputId": "a330af27-9ff6-47a1-bcf7-6a280183e22b"
      },
      "execution_count": 29,
      "outputs": [
        {
          "output_type": "execute_result",
          "data": {
            "text/plain": [
              "[<matplotlib.lines.Line2D at 0x7f3439c34510>]"
            ]
          },
          "metadata": {},
          "execution_count": 29
        },
        {
          "output_type": "display_data",
          "data": {
            "text/plain": [
              "<Figure size 432x288 with 1 Axes>"
            ],
            "image/png": "[encoded data removed]"
          },
          "metadata": {
            "needs_background": "light"
          }
        }
      ]
    },
    {
      "cell_type": "markdown",
      "source": [
        "## Finding Smallest best Context length to predict 2 forward observations\n",
        "\n",
        "\n",
        "we have 30 observations \n",
        "We can decide that after t=10 or some other number we will start predicting \n",
        "\n",
        "Only after ii==10 we will start predicting \n",
        "\n",
        "But its better that we prepare the data and then run the model\n",
        "\n",
        "For data preparation w ehave prediction length as 2 context length is variable and time_series is constant\n",
        "\n",
        "\n"
      ],
      "metadata": {
        "id": "skLDZJ4xGOOw"
      }
    },
    {
      "cell_type": "code",
      "source": [
        "from keras.models import Sequential\n",
        "from keras.layers import Dense\n",
        "\n",
        "\n",
        "def create_model(context_length,prediction_length):\n",
        "  model = Sequential()\n",
        "  model.add(Dense(100, activation='relu', input_dim=context_length))\n",
        "  model.add(Dense(prediction_length))\n",
        "  model.compile(optimizer='adam', loss='mse')\n",
        "  return model\n",
        "\n"
      ],
      "metadata": {
        "id": "KjjHU4XJEyS4"
      },
      "execution_count": 38,
      "outputs": []
    },
    {
      "cell_type": "code",
      "source": [
        "c=3\n",
        "starting_idx=20\n",
        "\n",
        "\n",
        "def computer_error(temp_context_length,starting_idx=20,temp_prediction_length=2):\n",
        "\n",
        "  temp_x,temp_y=generate_sequence(t_s,context_length=temp_context_length,prediction_length=temp_prediction_length)\n",
        "  temp_model=create_model(context_length=temp_context_length,prediction_length=temp_prediction_length)\n",
        "\n",
        "  lt_err=[]\n",
        "  for idx in range(starting_idx,len(temp_x)):\n",
        "    xx_iter=temp_x[:idx]\n",
        "    yy_iter=np.array(temp_y[:idx])\n",
        "\n",
        "    temp_model.fit(xx_iter,yy_iter,epochs=5,verbose=False)\n",
        "    \n",
        "    y_pred=temp_model.predict(\n",
        "                  temp_x[idx].reshape(-1,*temp_x[idx].shape)\n",
        "                            )\n",
        "    temp_rmse=np.power(\n",
        "        np.mean(\n",
        "            np.power((y_pred-temp_y[idx]),2\n",
        "                    )\n",
        "                ),(1/2))\n",
        "    lt_err.append(temp_rmse)\n",
        "  return lt_err\n",
        "\n",
        "\n",
        "\n",
        "computer_error(3)"
      ],
      "metadata": {
        "colab": {
          "base_uri": "https://localhost:8080/"
        },
        "id": "p0iX_MQGFjBn",
        "outputId": "0bb5ab5e-424c-4140-8a42-f0f8c1a4b27e"
      },
      "execution_count": 51,
      "outputs": [
        {
          "output_type": "execute_result",
          "data": {
            "text/plain": [
              "[1.2678809057070868,\n",
              " 1.0466232455824531,\n",
              " 0.544363390074025,\n",
              " 0.5031972628394787,\n",
              " 0.29997345792413443,\n",
              " 0.09947506891932352]"
            ]
          },
          "metadata": {},
          "execution_count": 51
        }
      ]
    },
    {
      "cell_type": "code",
      "source": [
        "from collections import defaultdict\n",
        "temp_dict=defaultdict(list)\n",
        "\n",
        "\n",
        "for c in range(1,6):\n",
        "  temp_lt_err=computer_error(c)\n",
        "  temp_dict[c]=temp_lt_err\n",
        "  print(c,end='-->')\n",
        "\n"
      ],
      "metadata": {
        "colab": {
          "base_uri": "https://localhost:8080/"
        },
        "id": "kS_jVrOYMbDg",
        "outputId": "7f80c462-ce62-4a8d-ef29-ae5ffbff8bb8"
      },
      "execution_count": 54,
      "outputs": [
        {
          "output_type": "stream",
          "name": "stdout",
          "text": [
            "1-->2-->3-->4-->5-->"
          ]
        }
      ]
    },
    {
      "cell_type": "code",
      "source": [
        "import seaborn as sns \n",
        "sns.heatmap(\n",
        "    pd.concat(map(lambda i : pd.Series(i),temp_dict.values()),axis=1)\n",
        "    ,annot=True\n",
        ")"
      ],
      "metadata": {
        "colab": {
          "base_uri": "https://localhost:8080/",
          "height": 282
        },
        "id": "5ODDpndWNDAL",
        "outputId": "b01c06cd-23df-4cae-a56b-a195173944a7"
      },
      "execution_count": 67,
      "outputs": [
        {
          "output_type": "execute_result",
          "data": {
            "text/plain": [
              "<matplotlib.axes._subplots.AxesSubplot at 0x7f342eed7ad0>"
            ]
          },
          "metadata": {},
          "execution_count": 67
        },
        {
          "output_type": "display_data",
          "data": {
            "text/plain": [
              "<Figure size 432x288 with 2 Axes>"
            ],
            "image/png": "[encoded data removed]"
          },
          "metadata": {
            "needs_background": "light"
          }
        }
      ]
    },
    {
      "cell_type": "code",
      "source": [
        "pd.concat(map(lambda i : pd.Series(i),([np.arange(10) for _ in range(5)])),axis=1)\n",
        "\n",
        "pd.concat(map(lambda i : pd.Series(i),[np.arange(10) for _ in range(5)]),axis=1)\n",
        "\n",
        "pd.concat(map(lambda i : pd.Series(i),temp_dict.values()),axis=1)"
      ],
      "metadata": {
        "colab": {
          "base_uri": "https://localhost:8080/",
          "height": 300
        },
        "id": "cxKkye1ENRLD",
        "outputId": "86ffa2df-8590-4694-9f50-4c90ca40b6d4"
      },
      "execution_count": 66,
      "outputs": [
        {
          "output_type": "execute_result",
          "data": {
            "text/plain": [
              "          0         1         2         3         4\n",
              "0  1.383410  1.438343  1.158507  1.029062  0.919366\n",
              "1  1.394285  1.100231  0.683256  0.391947  0.121130\n",
              "2  1.189554  0.748852  0.372766  0.513760  0.110243\n",
              "3  0.795987  0.658227  0.751589  0.147363  0.244015\n",
              "4  0.499314  0.643636  0.288180  0.198189       NaN\n",
              "5  0.614491  0.178347  0.215371       NaN       NaN\n",
              "6  0.120686  0.093166       NaN       NaN       NaN\n",
              "7  0.017693       NaN       NaN       NaN       NaN"
            ],
            "text/html": [
              "\n",
              "  <div id=\"df-3a934b46-263e-487e-86ce-57605dc1678e\">\n",
              "    <div class=\"colab-df-container\">\n",
              "      <div>\n",
              "<style scoped>\n",
              "    .dataframe tbody tr th:only-of-type {\n",
              "        vertical-align: middle;\n",
              "    }\n",
              "\n",
              "    .dataframe tbody tr th {\n",
              "        vertical-align: top;\n",
              "    }\n",
              "\n",
              "    .dataframe thead th {\n",
              "        text-align: right;\n",
              "    }\n",
              "</style>\n",
              "<table border=\"1\" class=\"dataframe\">\n",
              "  <thead>\n",
              "    <tr style=\"text-align: right;\">\n",
              "      <th></th>\n",
              "      <th>0</th>\n",
              "      <th>1</th>\n",
              "      <th>2</th>\n",
              "      <th>3</th>\n",
              "      <th>4</th>\n",
              "    </tr>\n",
              "  </thead>\n",
              "  <tbody>\n",
              "    <tr>\n",
              "      <th>0</th>\n",
              "      <td>1.383410</td>\n",
              "      <td>1.438343</td>\n",
              "      <td>1.158507</td>\n",
              "      <td>1.029062</td>\n",
              "      <td>0.919366</td>\n",
              "    </tr>\n",
              "    <tr>\n",
              "      <th>1</th>\n",
              "      <td>1.394285</td>\n",
              "      <td>1.100231</td>\n",
              "      <td>0.683256</td>\n",
              "      <td>0.391947</td>\n",
              "      <td>0.121130</td>\n",
              "    </tr>\n",
              "    <tr>\n",
              "      <th>2</th>\n",
              "      <td>1.189554</td>\n",
              "      <td>0.748852</td>\n",
              "      <td>0.372766</td>\n",
              "      <td>0.513760</td>\n",
              "      <td>0.110243</td>\n",
              "    </tr>\n",
              "    <tr>\n",
              "      <th>3</th>\n",
              "      <td>0.795987</td>\n",
              "      <td>0.658227</td>\n",
              "      <td>0.751589</td>\n",
              "      <td>0.147363</td>\n",
              "      <td>0.244015</td>\n",
              "    </tr>\n",
              "    <tr>\n",
              "      <th>4</th>\n",
              "      <td>0.499314</td>\n",
              "      <td>0.643636</td>\n",
              "      <td>0.288180</td>\n",
              "      <td>0.198189</td>\n",
              "      <td>NaN</td>\n",
              "    </tr>\n",
              "    <tr>\n",
              "      <th>5</th>\n",
              "      <td>0.614491</td>\n",
              "      <td>0.178347</td>\n",
              "      <td>0.215371</td>\n",
              "      <td>NaN</td>\n",
              "      <td>NaN</td>\n",
              "    </tr>\n",
              "    <tr>\n",
              "      <th>6</th>\n",
              "      <td>0.120686</td>\n",
              "      <td>0.093166</td>\n",
              "      <td>NaN</td>\n",
              "      <td>NaN</td>\n",
              "      <td>NaN</td>\n",
              "    </tr>\n",
              "    <tr>\n",
              "      <th>7</th>\n",
              "      <td>0.017693</td>\n",
              "      <td>NaN</td>\n",
              "      <td>NaN</td>\n",
              "      <td>NaN</td>\n",
              "      <td>NaN</td>\n",
              "    </tr>\n",
              "  </tbody>\n",
              "</table>\n",
              "</div>\n",
              "      <button class=\"colab-df-convert\" onclick=\"convertToInteractive('df-3a934b46-263e-487e-86ce-57605dc1678e')\"\n",
              "              title=\"Convert this dataframe to an interactive table.\"\n",
              "              style=\"display:none;\">\n",
              "        \n",
              "  <svg xmlns=\"http://www.w3.org/2000/svg\" height=\"24px\"viewBox=\"0 0 24 24\"\n",
              "       width=\"24px\">\n",
              "    <path d=\"M0 0h24v24H0V0z\" fill=\"none\"/>\n",
              "    <path d=\"M18.56 5.44l.94 2.06.94-2.06 2.06-.94-2.06-.94-.94-2.06-.94 2.06-2.06.94zm-11 1L8.5 8.5l.94-2.06 2.06-.94-2.06-.94L8.5 2.5l-.94 2.06-2.06.94zm10 10l.94 2.06.94-2.06 2.06-.94-2.06-.94-.94-2.06-.94 2.06-2.06.94z\"/><path d=\"M17.41 7.96l-1.37-1.37c-.4-.4-.92-.59-1.43-.59-.52 0-1.04.2-1.43.59L10.3 9.45l-7.72 7.72c-.78.78-.78 2.05 0 2.83L4 21.41c.39.39.9.59 1.41.59.51 0 1.02-.2 1.41-.59l7.78-7.78 2.81-2.81c.8-.78.8-2.07 0-2.86zM5.41 20L4 18.59l7.72-7.72 1.47 1.35L5.41 20z\"/>\n",
              "  </svg>\n",
              "      </button>\n",
              "      \n",
              "  <style>\n",
              "    .colab-df-container {\n",
              "      display:flex;\n",
              "      flex-wrap:wrap;\n",
              "      gap: 12px;\n",
              "    }\n",
              "\n",
              "    .colab-df-convert {\n",
              "      background-color: #E8F0FE;\n",
              "      border: none;\n",
              "      border-radius: 50%;\n",
              "      cursor: pointer;\n",
              "      display: none;\n",
              "      fill: #1967D2;\n",
              "      height: 32px;\n",
              "      padding: 0 0 0 0;\n",
              "      width: 32px;\n",
              "    }\n",
              "\n",
              "    .colab-df-convert:hover {\n",
              "      background-color: #E2EBFA;\n",
              "      box-shadow: 0px 1px 2px rgba(60, 64, 67, 0.3), 0px 1px 3px 1px rgba(60, 64, 67, 0.15);\n",
              "      fill: #174EA6;\n",
              "    }\n",
              "\n",
              "    [theme=dark] .colab-df-convert {\n",
              "      background-color: #3B4455;\n",
              "      fill: #D2E3FC;\n",
              "    }\n",
              "\n",
              "    [theme=dark] .colab-df-convert:hover {\n",
              "      background-color: #434B5C;\n",
              "      box-shadow: 0px 1px 3px 1px rgba(0, 0, 0, 0.15);\n",
              "      filter: drop-shadow(0px 1px 2px rgba(0, 0, 0, 0.3));\n",
              "      fill: #FFFFFF;\n",
              "    }\n",
              "  </style>\n",
              "\n",
              "      <script>\n",
              "        const buttonEl =\n",
              "          document.querySelector('#df-3a934b46-263e-487e-86ce-57605dc1678e button.colab-df-convert');\n",
              "        buttonEl.style.display =\n",
              "          google.colab.kernel.accessAllowed ? 'block' : 'none';\n",
              "\n",
              "        async function convertToInteractive(key) {\n",
              "          const element = document.querySelector('#df-3a934b46-263e-487e-86ce-57605dc1678e');\n",
              "          const dataTable =\n",
              "            await google.colab.kernel.invokeFunction('convertToInteractive',\n",
              "                                                     [key], {});\n",
              "          if (!dataTable) return;\n",
              "\n",
              "          const docLinkHtml = 'Like what you see? Visit the ' +\n",
              "            '<a target=\"_blank\" href=https://colab.research.google.com/notebooks/data_table.ipynb>data table notebook</a>'\n",
              "            + ' to learn more about interactive tables.';\n",
              "          element.innerHTML = '';\n",
              "          dataTable['output_type'] = 'display_data';\n",
              "          await google.colab.output.renderOutput(dataTable, element);\n",
              "          const docLink = document.createElement('div');\n",
              "          docLink.innerHTML = docLinkHtml;\n",
              "          element.appendChild(docLink);\n",
              "        }\n",
              "      </script>\n",
              "    </div>\n",
              "  </div>\n",
              "  "
            ]
          },
          "metadata": {},
          "execution_count": 66
        }
      ]
    },
    {
      "cell_type": "markdown",
      "source": [
        "## ROUGH WORK"
      ],
      "metadata": {
        "id": "DknMnOm6LZyt"
      }
    },
    {
      "cell_type": "code",
      "source": [
        "xx_iter.shape,np.array(yy_iter).shape\n",
        "# temp_model.predict(\n",
        "temp_x[idx].reshape(-1,*temp_x[idx].shape).shape"
      ],
      "metadata": {
        "colab": {
          "base_uri": "https://localhost:8080/"
        },
        "id": "PdBoPJ-3H_SS",
        "outputId": "418105a6-c6a9-4561-d225-f4dd36d83f1b"
      },
      "execution_count": 48,
      "outputs": [
        {
          "output_type": "execute_result",
          "data": {
            "text/plain": [
              "(1, 3, 1)"
            ]
          },
          "metadata": {},
          "execution_count": 48
        }
      ]
    },
    {
      "cell_type": "code",
      "source": [
        ""
      ],
      "metadata": {
        "id": "2t1GEomkIAGl"
      },
      "execution_count": null,
      "outputs": []
    }
  ]
}