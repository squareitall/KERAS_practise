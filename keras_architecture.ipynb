{
  "nbformat": 4,
  "nbformat_minor": 0,
  "metadata": {
    "colab": {
      "name": "keras_architecture.ipynb",
      "provenance": []
    },
    "kernelspec": {
      "name": "python3",
      "display_name": "Python 3"
    },
    "language_info": {
      "name": "python"
    }
  },
  "cells": [
    {
      "cell_type": "code",
      "execution_count": null,
      "metadata": {
        "id": "aEeB9B44Jr_T"
      },
      "outputs": [],
      "source": [
        "import tensorflow as tf\n",
        "from tensorflow import keras\n",
        "\n",
        "from keras.layers import Dense\n",
        "# from keras.model import "
      ]
    },
    {
      "cell_type": "code",
      "source": [
        "Dense?"
      ],
      "metadata": {
        "id": "knckxmtnOxJI"
      },
      "execution_count": null,
      "outputs": []
    },
    {
      "cell_type": "code",
      "source": [
        "inner_model = keras.Sequential(\n",
        "    [\n",
        "        keras.Input(shape=(5,)),\n",
        "        Dense(2, activation=\"relu\"),\n",
        "        Dense(5, activation=\"relu\"),\n",
        "    ])\n",
        "\n",
        "\n",
        "inner_model.summary()"
      ],
      "metadata": {
        "colab": {
          "base_uri": "https://localhost:8080/"
        },
        "id": "0UFxHL0RJ-mP",
        "outputId": "e08b8788-c810-4a83-e460-9028d554fd80"
      },
      "execution_count": null,
      "outputs": [
        {
          "output_type": "stream",
          "name": "stdout",
          "text": [
            "Model: \"sequential_10\"\n",
            "_________________________________________________________________\n",
            " Layer (type)                Output Shape              Param #   \n",
            "=================================================================\n",
            " dense_15 (Dense)            (None, 2)                 12        \n",
            "                                                                 \n",
            " dense_16 (Dense)            (None, 5)                 15        \n",
            "                                                                 \n",
            "=================================================================\n",
            "Total params: 27\n",
            "Trainable params: 27\n",
            "Non-trainable params: 0\n",
            "_________________________________________________________________\n"
          ]
        }
      ]
    },
    {
      "cell_type": "code",
      "source": [
        "model = keras.Sequential([\n",
        "    keras.Input(shape=(5,)),Dense(3, activation=\"relu\"),\n",
        "     inner_model, Dense(3, activation=\"sigmoid\"),]\n",
        ")#The input of the wrapper model must be of same size as that of inner model\n",
        "#The last \n",
        "# model.summary()"
      ],
      "metadata": {
        "id": "Q_PlI0HmKwWh"
      },
      "execution_count": null,
      "outputs": []
    },
    {
      "cell_type": "code",
      "source": [
        ""
      ],
      "metadata": {
        "id": "cQHZCsgILinu"
      },
      "execution_count": null,
      "outputs": []
    }
  ]
}