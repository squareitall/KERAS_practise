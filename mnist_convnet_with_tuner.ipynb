{
  "cells": [
    {
      "cell_type": "markdown",
      "metadata": {
        "id": "xv9-1C4qBwcV"
      },
      "source": [
        "# Simple MNIST convnet\n",
        "\n",
        "**Author:** [fchollet](https://twitter.com/fchollet)<br>\n",
        "**Date created:** 2015/06/19<br>\n",
        "**Last modified:** 2020/04/21<br>\n",
        "**Description:** A simple convnet that achieves ~99% test accuracy on MNIST.\n",
        "\n",
        "\n",
        "\n",
        "**Appendage** Introduced the concept of KerasTuner to detect units ffor the dense layer\n"
      ]
    },
    {
      "cell_type": "markdown",
      "metadata": {
        "id": "786n6ZMFBwcb"
      },
      "source": [
        "## Setup"
      ]
    },
    {
      "cell_type": "code",
      "execution_count": null,
      "metadata": {
        "id": "Nda2qJCQBwcd"
      },
      "outputs": [],
      "source": [
        "import numpy as np\n",
        "from tensorflow import keras\n",
        "from tensorflow.keras import layers"
      ]
    },
    {
      "cell_type": "markdown",
      "metadata": {
        "id": "72jucCcjBwce"
      },
      "source": [
        "## Prepare the data"
      ]
    },
    {
      "cell_type": "code",
      "source": [
        "#Loading the dataset\n",
        "num_classes = 10 #Softmax classification \n",
        "input_shape = (28, 28, 1)#Gray scale image and we have R*W as 28*28\n",
        "\n",
        "# the data, split between train and test sets\n",
        "(x_train, y_train), (x_test, y_test) = keras.datasets.mnist.load_data()"
      ],
      "metadata": {
        "id": "eGR3N10iC-mt"
      },
      "execution_count": null,
      "outputs": []
    },
    {
      "cell_type": "code",
      "source": [
        "# Scale images to the [0, 1] range\n",
        "## This will help maintain consistency with the learning of weights and application of convolution on given 2-D grid topology; standardization is essential when we have only 1 learning weight\n",
        "## Adittionally this tackles the problem of scaling which cannot be handled by convolution \n",
        "\n",
        "x_train = x_train.astype(\"float32\") / 255\n",
        "x_test = x_test.astype('float32') / 255"
      ],
      "metadata": {
        "id": "AdT6zWaLD17H"
      },
      "execution_count": null,
      "outputs": []
    },
    {
      "cell_type": "code",
      "source": [
        "# # Make sure images have shape (28, 28, 1)\n",
        "# x_train = np.expand_dims(x_train, -1)\n",
        "# x_test = np.expand_dims(x_test, -1)\n",
        "\n",
        "x_train=x_train.reshape(*x_train.shape,-1)\n",
        "x_test=x_test.reshape(*x_test.shape,-1)\n",
        "\n",
        "print(\"x_train shape:\", x_train.shape)\n",
        "print(x_train.shape[0], \"train samples\")\n",
        "print(x_test.shape[0], \"test samples\")"
      ],
      "metadata": {
        "id": "T_rOWnyZE0CE",
        "outputId": "89e9be78-f895-4e97-bc01-20dddf7de500",
        "colab": {
          "base_uri": "https://localhost:8080/"
        }
      },
      "execution_count": null,
      "outputs": [
        {
          "output_type": "stream",
          "name": "stdout",
          "text": [
            "x_train shape: (60000, 28, 28, 1)\n",
            "60000 train samples\n",
            "10000 test samples\n"
          ]
        }
      ]
    },
    {
      "cell_type": "code",
      "execution_count": null,
      "metadata": {
        "id": "hbVZmTBMBwce"
      },
      "outputs": [],
      "source": [
        "# convert class vectors to binary class matrices\n",
        "# y_train = \n",
        "\n",
        "classes=len(np.unique(y_train))\n",
        "instances=y_train.shape[0]\n",
        "\n",
        "temp=np.zeros(shape=(instances,classes))\n",
        "temp[np.arange(len(y_train)),y_train]=1\n",
        "np.concatenate([temp,y_train.reshape(-1,1)],axis=1)#Or we can use pd.get_dummies too\n",
        "#to_categorical is a strong feature \n",
        "\n",
        "y_train= keras.utils.to_categorical(y_train, num_classes)\n",
        "y_test = keras.utils.to_categorical(y_test, num_classes)"
      ]
    },
    {
      "cell_type": "markdown",
      "metadata": {
        "id": "p1wgRQobBwcf"
      },
      "source": [
        "## Build the model"
      ]
    },
    {
      "cell_type": "code",
      "execution_count": null,
      "metadata": {
        "id": "ePcHVKo9Bwcf",
        "outputId": "24b402ac-833e-4339-d6f7-3c03cbe8c381",
        "colab": {
          "base_uri": "https://localhost:8080/"
        }
      },
      "outputs": [
        {
          "output_type": "stream",
          "name": "stdout",
          "text": [
            "Model: \"sequential_1\"\n",
            "_________________________________________________________________\n",
            " Layer (type)                Output Shape              Param #   \n",
            "=================================================================\n",
            " conv2d_2 (Conv2D)           (None, 26, 26, 32)        320       \n",
            "                                                                 \n",
            " max_pooling2d_2 (MaxPooling  (None, 13, 13, 32)       0         \n",
            " 2D)                                                             \n",
            "                                                                 \n",
            " conv2d_3 (Conv2D)           (None, 11, 11, 64)        18496     \n",
            "                                                                 \n",
            " max_pooling2d_3 (MaxPooling  (None, 5, 5, 64)         0         \n",
            " 2D)                                                             \n",
            "                                                                 \n",
            " flatten_1 (Flatten)         (None, 1600)              0         \n",
            "                                                                 \n",
            " dropout_1 (Dropout)         (None, 1600)              0         \n",
            "                                                                 \n",
            " dense_1 (Dense)             (None, 10)                16010     \n",
            "                                                                 \n",
            "=================================================================\n",
            "Total params: 34,826\n",
            "Trainable params: 34,826\n",
            "Non-trainable params: 0\n",
            "_________________________________________________________________\n"
          ]
        }
      ],
      "source": [
        "#This is a builder/constriuctor that appends one layer after the another \n",
        "# We can sequentially add these layers by using add to the sequential model or directly pass list of layers as an object\n",
        "\n",
        "\n",
        "#Additional note kernel size is 3*3 used to find sparse local features, and we will have 32 such convolutional finders/kernels \n",
        "#Each convolution has a stride of 1 and thus the output shape will be (28-3+1)/1,(28-3+1)/1=26,26\n",
        "#We will have 32*(3*3+1) weights--> 320== 32*9 +32 biases\n",
        "\n",
        "\n",
        "#32 wala ek 28*28 pe lagaya gya thaa isliye 32 26*26 nikal ke aye\n",
        "\n",
        "\n",
        "#max pooling will help introduce locational invariance and will further reduce the size of the topology \n",
        "\n",
        "\n",
        "#We will use one more layer of convolution to find association between pooled and accentuated features, example combination of rotated edges\n",
        "\n",
        "#64 maps were applied to 32 maps\n",
        "# kernel size was 3*3=9 therefore we have 64*32*9 +64 biases\n",
        "\n",
        "#Every kernel comes with a bias\n",
        "\n",
        "##Flatten everything to feed a sthe final feature\n",
        "\n",
        "model = keras.Sequential(\n",
        "    [\n",
        "        keras.Input(shape=input_shape),\n",
        "        layers.Conv2D(32, kernel_size=(3, 3), activation=\"relu\"),\n",
        "        layers.MaxPooling2D(pool_size=(2, 2)),\n",
        "        layers.Conv2D(64, kernel_size=(3, 3), activation=\"relu\"),\n",
        "        layers.MaxPooling2D(pool_size=(2, 2)),\n",
        "        layers.Flatten(),\n",
        "        layers.Dropout(0.5),\n",
        "        layers.Dense(num_classes, activation=\"softmax\"),\n",
        "    ]\n",
        ")\n",
        "\n",
        "model.summary()\n",
        "\n",
        "# 18496/64\n",
        "# 32*9"
      ]
    },
    {
      "cell_type": "markdown",
      "metadata": {
        "id": "5WT1ZKXGBwcg"
      },
      "source": [
        "## Train the model"
      ]
    },
    {
      "cell_type": "code",
      "execution_count": null,
      "metadata": {
        "id": "UgDo2RVbBwch",
        "outputId": "acdb1fd8-916e-46b5-f950-c13564c008a6",
        "colab": {
          "base_uri": "https://localhost:8080/"
        }
      },
      "outputs": [
        {
          "output_type": "stream",
          "name": "stdout",
          "text": [
            "Epoch 1/15\n",
            "422/422 [==============================] - 13s 10ms/step - loss: 0.3633 - accuracy: 0.8919 - val_loss: 0.0844 - val_accuracy: 0.9760\n",
            "Epoch 2/15\n",
            "422/422 [==============================] - 4s 10ms/step - loss: 0.1099 - accuracy: 0.9662 - val_loss: 0.0585 - val_accuracy: 0.9838\n",
            "Epoch 3/15\n",
            "422/422 [==============================] - 4s 10ms/step - loss: 0.0862 - accuracy: 0.9734 - val_loss: 0.0470 - val_accuracy: 0.9862\n",
            "Epoch 4/15\n",
            "422/422 [==============================] - 4s 9ms/step - loss: 0.0699 - accuracy: 0.9781 - val_loss: 0.0414 - val_accuracy: 0.9893\n",
            "Epoch 5/15\n",
            "422/422 [==============================] - 4s 10ms/step - loss: 0.0620 - accuracy: 0.9804 - val_loss: 0.0364 - val_accuracy: 0.9895\n",
            "Epoch 6/15\n",
            "422/422 [==============================] - 4s 9ms/step - loss: 0.0551 - accuracy: 0.9827 - val_loss: 0.0380 - val_accuracy: 0.9898\n",
            "Epoch 7/15\n",
            "422/422 [==============================] - 4s 9ms/step - loss: 0.0503 - accuracy: 0.9844 - val_loss: 0.0335 - val_accuracy: 0.9910\n",
            "Epoch 8/15\n",
            "422/422 [==============================] - 4s 9ms/step - loss: 0.0465 - accuracy: 0.9851 - val_loss: 0.0348 - val_accuracy: 0.9910\n",
            "Epoch 9/15\n",
            "422/422 [==============================] - 4s 9ms/step - loss: 0.0438 - accuracy: 0.9862 - val_loss: 0.0339 - val_accuracy: 0.9897\n",
            "Epoch 10/15\n",
            "422/422 [==============================] - 4s 9ms/step - loss: 0.0414 - accuracy: 0.9867 - val_loss: 0.0321 - val_accuracy: 0.9912\n",
            "Epoch 11/15\n",
            "422/422 [==============================] - 4s 9ms/step - loss: 0.0386 - accuracy: 0.9877 - val_loss: 0.0292 - val_accuracy: 0.9918\n",
            "Epoch 12/15\n",
            "422/422 [==============================] - 4s 9ms/step - loss: 0.0356 - accuracy: 0.9884 - val_loss: 0.0304 - val_accuracy: 0.9912\n",
            "Epoch 13/15\n",
            "422/422 [==============================] - 4s 10ms/step - loss: 0.0351 - accuracy: 0.9891 - val_loss: 0.0288 - val_accuracy: 0.9915\n",
            "Epoch 14/15\n",
            "422/422 [==============================] - 4s 10ms/step - loss: 0.0356 - accuracy: 0.9884 - val_loss: 0.0280 - val_accuracy: 0.9920\n",
            "Epoch 15/15\n",
            "422/422 [==============================] - 4s 9ms/step - loss: 0.0331 - accuracy: 0.9896 - val_loss: 0.0273 - val_accuracy: 0.9925\n"
          ]
        },
        {
          "output_type": "execute_result",
          "data": {
            "text/plain": [
              "<keras.callbacks.History at 0x7efcb3061190>"
            ]
          },
          "metadata": {},
          "execution_count": 53
        }
      ],
      "source": [
        "batch_size = 128\n",
        "epochs = 15\n",
        "\n",
        "model.compile(loss=\"categorical_crossentropy\", optimizer=\"adam\", metrics=[\"accuracy\"])\n",
        "\n",
        "model.fit(x_train, y_train, batch_size=batch_size, epochs=epochs, validation_split=0.1)"
      ]
    },
    {
      "cell_type": "markdown",
      "metadata": {
        "id": "r96_c30PBwci"
      },
      "source": [
        "## Evaluate the trained model"
      ]
    },
    {
      "cell_type": "code",
      "execution_count": null,
      "metadata": {
        "id": "AHIPOyqDBwci",
        "outputId": "07f98840-b76b-4b6f-eeea-489736d588e3",
        "colab": {
          "base_uri": "https://localhost:8080/"
        }
      },
      "outputs": [
        {
          "output_type": "stream",
          "name": "stdout",
          "text": [
            "Test loss: 0.02424480766057968\n",
            "Test accuracy: 0.9921000003814697\n"
          ]
        }
      ],
      "source": [
        "score = model.evaluate(x_test, y_test, verbose=0)\n",
        "print(\"Test loss:\", score[0])\n",
        "print(\"Test accuracy:\", score[1])"
      ]
    },
    {
      "cell_type": "markdown",
      "source": [
        "# Rough Work"
      ],
      "metadata": {
        "id": "HxI0UwygJUtR"
      }
    },
    {
      "cell_type": "code",
      "source": [
        "temp=np.zeros(shape=(instances,classes))\n",
        "temp=temp[:3,:]\n",
        "\n",
        "temp[:,0]=np.arange(1,4)*100\n",
        "temp[np.arange(len(temp)),[0,1,0]]#-->[0,0],[1,1],[2,0]\n",
        "# np.arange(len(temp))\n",
        "# temp[[0,1,2],[0,1,0]]\n",
        "# temp[:,[0,1,0,0,0]]#broadcasting"
      ],
      "metadata": {
        "id": "yQkIrZZrJTw5",
        "outputId": "825698a4-3e93-44f1-c3e4-cdd866325e1b",
        "colab": {
          "base_uri": "https://localhost:8080/"
        }
      },
      "execution_count": null,
      "outputs": [
        {
          "output_type": "execute_result",
          "data": {
            "text/plain": [
              "array([100.,   0., 300.])"
            ]
          },
          "metadata": {},
          "execution_count": 42
        }
      ]
    },
    {
      "cell_type": "code",
      "source": [
        "!pip install keras-tuner --upgrade"
      ],
      "metadata": {
        "id": "Eykf4YaHQ0kT"
      },
      "execution_count": null,
      "outputs": []
    },
    {
      "cell_type": "code",
      "source": [
        "import keras_tuner as kt\n",
        "from tensorflow import keras"
      ],
      "metadata": {
        "id": "OL6bMIQWQvFs"
      },
      "execution_count": null,
      "outputs": []
    },
    {
      "cell_type": "code",
      "source": [
        "from keras.layers.merge import concatenate\n",
        "from keras.layers import *\n",
        "\n",
        "https://keras.io/keras_tuner/\n",
        "\n",
        "https://keras.io/guides/keras_tuner/getting_started/"
      ],
      "metadata": {
        "id": "nKsgzdJzSYIn"
      },
      "execution_count": null,
      "outputs": []
    },
    {
      "cell_type": "code",
      "source": [
        "def search_model(hp):\n",
        "  model = keras.Sequential(\n",
        "      [\n",
        "          keras.Input(shape=input_shape),\n",
        "          layers.Conv2D(32, kernel_size=(3, 3), activation=\"relu\"),\n",
        "          layers.MaxPooling2D(pool_size=(2, 2))])\n",
        "  model.add(layers.Conv2D(\n",
        "      hp.Choice('num_kernels',[16,32,64]),\n",
        "      kernel_size=(3, 3), activation=\"relu\"))\n",
        "  \n",
        "  model.add(layers.MaxPooling2D(pool_size=(2, 2)))\n",
        "  model.add(layers.Flatten())\n",
        "  model.add(layers.Dropout(0.5))\n",
        "  model.add(layers.Dense(num_classes, activation=\"softmax\"))\n",
        "\n",
        "  model.compile(loss=\"categorical_crossentropy\", optimizer=\"adam\", metrics=[\"accuracy\"])\n",
        "  return model\n",
        "\n",
        "\n",
        "\n",
        "\n",
        "      \n",
        "  "
      ],
      "metadata": {
        "id": "llvNRGbbJWYU"
      },
      "execution_count": null,
      "outputs": []
    },
    {
      "cell_type": "code",
      "source": [
        "tuner = kt.RandomSearch(\n",
        "    search_model,\n",
        "    objective='val_loss',\n",
        "    max_trials=5)\n",
        "\n"
      ],
      "metadata": {
        "id": "Je6fNAt1Vj4B"
      },
      "execution_count": null,
      "outputs": []
    },
    {
      "cell_type": "code",
      "source": [
        "x_val=x_train[50000:,]\n",
        "x_train=x_train[:50000,]\n",
        "\n",
        "y_val=y_train[50000:,]\n",
        "y_train=y_train[:50000,]\n",
        "\n",
        "\n",
        "\n",
        "x_train.shape,x_val.shape,y_val.shape"
      ],
      "metadata": {
        "id": "o6MnNsooWDZz",
        "outputId": "e66a0f55-1176-4fa7-e274-9dcf217ee736",
        "colab": {
          "base_uri": "https://localhost:8080/"
        }
      },
      "execution_count": null,
      "outputs": [
        {
          "output_type": "execute_result",
          "data": {
            "text/plain": [
              "((50000, 28, 28, 1), (10000, 28, 28, 1), (10000, 10))"
            ]
          },
          "metadata": {},
          "execution_count": 89
        }
      ]
    },
    {
      "cell_type": "code",
      "source": [
        "# tuner.search(x_train, y_train, epochs=5, validation_data=(x_val, y_val))\n",
        "best_model = tuner.get_best_models()[0]"
      ],
      "metadata": {
        "id": "V5h8HKRjVwz6"
      },
      "execution_count": null,
      "outputs": []
    },
    {
      "cell_type": "code",
      "source": [
        "best_model.summary()"
      ],
      "metadata": {
        "id": "B3nehHGNWugr",
        "outputId": "abd67215-a93b-4ed9-abd6-cd12becd0f71",
        "colab": {
          "base_uri": "https://localhost:8080/"
        }
      },
      "execution_count": null,
      "outputs": [
        {
          "output_type": "stream",
          "name": "stdout",
          "text": [
            "Model: \"sequential\"\n",
            "_________________________________________________________________\n",
            " Layer (type)                Output Shape              Param #   \n",
            "=================================================================\n",
            " conv2d (Conv2D)             (None, 26, 26, 32)        320       \n",
            "                                                                 \n",
            " max_pooling2d (MaxPooling2D  (None, 13, 13, 32)       0         \n",
            " )                                                               \n",
            "                                                                 \n",
            " conv2d_1 (Conv2D)           (None, 11, 11, 64)        18496     \n",
            "                                                                 \n",
            " max_pooling2d_1 (MaxPooling  (None, 5, 5, 64)         0         \n",
            " 2D)                                                             \n",
            "                                                                 \n",
            " flatten (Flatten)           (None, 1600)              0         \n",
            "                                                                 \n",
            " dropout (Dropout)           (None, 1600)              0         \n",
            "                                                                 \n",
            " dense (Dense)               (None, 10)                16010     \n",
            "                                                                 \n",
            "=================================================================\n",
            "Total params: 34,826\n",
            "Trainable params: 34,826\n",
            "Non-trainable params: 0\n",
            "_________________________________________________________________\n"
          ]
        }
      ]
    },
    {
      "cell_type": "code",
      "source": [
        ""
      ],
      "metadata": {
        "id": "Mnqq7yGXaHEc"
      },
      "execution_count": null,
      "outputs": []
    }
  ],
  "metadata": {
    "colab": {
      "collapsed_sections": [],
      "name": "mnist_convnet_with_tuner.ipynb",
      "provenance": []
    },
    "kernelspec": {
      "display_name": "Python 3",
      "language": "python",
      "name": "python3"
    },
    "language_info": {
      "codemirror_mode": {
        "name": "ipython",
        "version": 3
      },
      "file_extension": ".py",
      "mimetype": "text/x-python",
      "name": "python",
      "nbconvert_exporter": "python",
      "pygments_lexer": "ipython3",
      "version": "3.7.0"
    },
    "accelerator": "GPU"
  },
  "nbformat": 4,
  "nbformat_minor": 0
}