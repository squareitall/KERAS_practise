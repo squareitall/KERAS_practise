{
  "nbformat": 4,
  "nbformat_minor": 0,
  "metadata": {
    "colab": {
      "name": "Keras_Layers_Practise.ipynb",
      "provenance": []
    },
    "kernelspec": {
      "name": "python3",
      "display_name": "Python 3"
    },
    "language_info": {
      "name": "python"
    }
  },
  "cells": [
    {
      "cell_type": "code",
      "execution_count": 1,
      "metadata": {
        "id": "cmJAvAuu62kN"
      },
      "outputs": [],
      "source": [
        "import numpy as np\n",
        "import pandas as pd\n",
        "import tensorflow as tf\n"
      ]
    },
    {
      "cell_type": "code",
      "source": [
        "from keras.layers import Layer\n",
        "#All variables/parameters must be tensorflow variable as we need to feed them inside the computation graph and tell whether it has to be trained or not"
      ],
      "metadata": {
        "id": "V_fALCOR6504"
      },
      "execution_count": 2,
      "outputs": []
    },
    {
      "cell_type": "code",
      "source": [
        "class lcombination_Layer(Layer):\n",
        "  def __init__(self,units=3):\n",
        "    super(lcombination_Layer,self).__init__()\n",
        "    self.units=units\n",
        "  \n",
        "  def build(self,input_shape):\n",
        "    # input_shape=input.shape[0]\n",
        "    wts_init=tf.random_normal_initializer()\n",
        "\n",
        "    self.wts=tf.Variable(initial_value=wts_init(shape=(input_shape[-1],self.units)),\n",
        "                         trainable=True,dtype='float32'\n",
        "                         )\n",
        "    self.bias=tf.Variable(initial_value=tf.zeros_initializer()(shape=(self.units,)),\n",
        "                          trainable=True,dtype='float32'\n",
        "                          )\n",
        "  \n",
        "  def call(self,input):\n",
        "    ans=tf.matmul(input,self.wts)+self.bias\n",
        "    return ans\n",
        "\n",
        "ll=lcombination_Layer(20)\n",
        "\n",
        "ll(tf.ones((2, 2)))\n",
        "ll.weights\n"
      ],
      "metadata": {
        "colab": {
          "base_uri": "https://localhost:8080/"
        },
        "id": "yM9lzci-69L-",
        "outputId": "65bad459-40c6-41d1-86bb-5a702bc8e3a2"
      },
      "execution_count": 29,
      "outputs": [
        {
          "output_type": "execute_result",
          "data": {
            "text/plain": [
              "[<tf.Variable 'lcombination__layer_4/Variable:0' shape=(2, 20) dtype=float32, numpy=\n",
              " array([[ 0.03021215,  0.0931913 ,  0.01853705, -0.00551992, -0.0606694 ,\n",
              "         -0.02736589, -0.04462356,  0.00421912,  0.07916684,  0.02666534,\n",
              "         -0.00579744,  0.01617802,  0.01010777, -0.00479433,  0.04455417,\n",
              "          0.11207785, -0.01171782,  0.01052913,  0.02092612,  0.0542494 ],\n",
              "        [-0.05577335,  0.08635243,  0.02126202, -0.02540554, -0.03068448,\n",
              "         -0.04295112,  0.04693201, -0.00997294, -0.02374625, -0.0338445 ,\n",
              "         -0.03867098, -0.03922579, -0.02319262,  0.02063885,  0.04058544,\n",
              "         -0.05983225,  0.01872281, -0.00215535,  0.00698939,  0.0730015 ]],\n",
              "       dtype=float32)>,\n",
              " <tf.Variable 'lcombination__layer_4/Variable:0' shape=(20,) dtype=float32, numpy=\n",
              " array([0., 0., 0., 0., 0., 0., 0., 0., 0., 0., 0., 0., 0., 0., 0., 0., 0.,\n",
              "        0., 0., 0.], dtype=float32)>]"
            ]
          },
          "metadata": {},
          "execution_count": 29
        }
      ]
    },
    {
      "cell_type": "markdown",
      "source": [
        "# Rough WORK"
      ],
      "metadata": {
        "id": "rmIIGRXc7ks7"
      }
    },
    {
      "cell_type": "code",
      "source": [
        "rni=tf.random_normal_initializer()\n",
        "rni(shape=(1,3))#__call__ based"
      ],
      "metadata": {
        "colab": {
          "base_uri": "https://localhost:8080/"
        },
        "id": "QmTZcFQ27kQE",
        "outputId": "cce0f9d9-e8e7-4f70-d68b-6d8117235cf0"
      },
      "execution_count": 9,
      "outputs": [
        {
          "output_type": "execute_result",
          "data": {
            "text/plain": [
              "<tf.Tensor: shape=(1, 3), dtype=float32, numpy=array([[-0.01288616,  0.02024633,  0.10976233]], dtype=float32)>"
            ]
          },
          "metadata": {},
          "execution_count": 9
        }
      ]
    },
    {
      "cell_type": "code",
      "source": [
        ""
      ],
      "metadata": {
        "id": "0k_aEGSV7miQ"
      },
      "execution_count": null,
      "outputs": []
    }
  ]
}