{
  "nbformat": 4,
  "nbformat_minor": 0,
  "metadata": {
    "colab": {
      "name": "RNN_itemMatrixRepresentation_and_ARModelfor_SInecurve.ipynb",
      "provenance": [],
      "collapsed_sections": []
    },
    "kernelspec": {
      "name": "python3",
      "display_name": "Python 3"
    },
    "language_info": {
      "name": "python"
    }
  },
  "cells": [
    {
      "cell_type": "code",
      "execution_count": 1,
      "metadata": {
        "id": "eThUfiNHwufY"
      },
      "outputs": [],
      "source": [
        "import numpy as np\n",
        "import tensorflow as tf\n",
        "\n",
        "from tensorflow import keras\n",
        "from tensorflow.keras import layers\n",
        "from tensorflow.keras.models import Model\n",
        "\n",
        "\n",
        "from tensorflow.keras.utils import plot_model\n"
      ]
    },
    {
      "cell_type": "code",
      "source": [
        "#For Item Sequences\n",
        "\n",
        "model = keras.Sequential()\n",
        "model.add(layers.Input(50))#50 items at a time --> Item indices created using rollingf or shift functions\n",
        "model.add(layers.Embedding(500,10))#Latent vectors -->10\n",
        "\n",
        "model.add(layers.SimpleRNN(5))#hidden layers in RNN be 5\n",
        "\n",
        "model.add(layers.Dense(10))#Final output from the Item mblock of code\n",
        "\n",
        "model.summary()\n",
        "\n",
        "\n",
        "#Embedder matrix will have 10 laten weights for 500 items\n",
        "\n",
        "#Rnn layer will be connected with the input and the previous hidden state\n",
        "#5 layers of the currebt statwe will be connected with 5 layers of the previous state\n",
        "# 10 dimensions/sequence sample of the each item is connected with the five layers of state \n",
        "# Total params 10*5+5*5 + 5 biases \n",
        "\n",
        "plot_model(\n",
        "    model, to_file='model.png', show_shapes=True, show_dtype=False,\n",
        "    show_layer_names=True, rankdir='TB', expand_nested=False, dpi=96,\n",
        "    layer_range=None, show_layer_activations=False\n",
        ")"
      ],
      "metadata": {
        "colab": {
          "base_uri": "https://localhost:8080/",
          "height": 682
        },
        "id": "qTfH4UMSwvDq",
        "outputId": "e647e524-dcfd-4284-e894-18f847426170"
      },
      "execution_count": 10,
      "outputs": [
        {
          "output_type": "stream",
          "name": "stdout",
          "text": [
            "Model: \"sequential_6\"\n",
            "_________________________________________________________________\n",
            " Layer (type)                Output Shape              Param #   \n",
            "=================================================================\n",
            " embedding_6 (Embedding)     (None, 50, 10)            5000      \n",
            "                                                                 \n",
            " simple_rnn_6 (SimpleRNN)    (None, 5)                 80        \n",
            "                                                                 \n",
            " dense_6 (Dense)             (None, 10)                60        \n",
            "                                                                 \n",
            "=================================================================\n",
            "Total params: 5,140\n",
            "Trainable params: 5,140\n",
            "Non-trainable params: 0\n",
            "_________________________________________________________________\n"
          ]
        },
        {
          "output_type": "execute_result",
          "data": {
            "image/png": "[encoded data removed]",
            "text/plain": [
              "<IPython.core.display.Image object>"
            ]
          },
          "metadata": {},
          "execution_count": 10
        }
      ]
    },
    {
      "cell_type": "code",
      "source": [
        "# layers.SimpleRNN?\n",
        "#The 50 sequences will be connected using RNN sytate sharing network and the associative latent dimension of that will be passed to the final layer\n",
        "\n",
        "\n",
        "#We could have flattened the 50,10 into 50*10 and used an ANN for training some \n",
        "# specific associations but we will make use of the sequance patter of the \n",
        "# flowing items and hypothesise a presence of 1-D association that is constant \n",
        "#across the entire dataset\n",
        "\n",
        "#If we feel there can be some other association present we can train multiple \n",
        "# 1-d convolution maps and then train the data\n",
        "\n",
        "#Similar approach is followe dto compute graph based netwrok on the user side \n",
        "\n",
        "# The results of both are concatenated together and then used for further analysis"
      ],
      "metadata": {
        "id": "UWaPMLnHxNhS"
      },
      "execution_count": 11,
      "outputs": []
    },
    {
      "cell_type": "markdown",
      "source": [
        "# RNN for AR model"
      ],
      "metadata": {
        "id": "FCligTc_6sg6"
      }
    },
    {
      "cell_type": "code",
      "source": [
        "s = np.sin(0.1*np.arange(1000)) + np.random.randn(1000)*0.1\n",
        "\n",
        "ar=10\n",
        "total_ins=s.shape[0]\n",
        "\n",
        "xx=np.concatenate([\n",
        "           s[i:total_ins-ar+i].reshape(-1,1) for i in range(9,-1,-1)\n",
        "],axis=1)\n",
        "\n",
        "# s[:10],np.roll(s[:10],total_ins-1)\n",
        "\n",
        "yy=np.roll(xx[:,0],xx[:,0].shape[0]-1)[:-1]#[:xx[:,0].shape[0]-1]\n",
        "xx=xx[:-1,:]\n",
        "\n",
        "assert(xx.shape[0]==yy.shape[0])"
      ],
      "metadata": {
        "id": "t1MxuL3NySLU"
      },
      "execution_count": 43,
      "outputs": []
    },
    {
      "cell_type": "code",
      "source": [
        "xx[0],yy[0],s[:15]#Predict xt+1 using previous x10 values"
      ],
      "metadata": {
        "colab": {
          "base_uri": "https://localhost:8080/"
        },
        "id": "_xM0J2MA8rXB",
        "outputId": "580ecbb5-6993-491b-bed3-6b40a3df47b2"
      },
      "execution_count": 44,
      "outputs": [
        {
          "output_type": "execute_result",
          "data": {
            "text/plain": [
              "(array([ 0.64370108,  0.81214038,  0.65011819,  0.62254422,  0.4712271 ,\n",
              "         0.25130879,  0.4634845 ,  0.05358569, -0.1871793 ,  0.0268606 ]),\n",
              " 0.7543736240289269,\n",
              " array([ 0.0268606 , -0.1871793 ,  0.05358569,  0.4634845 ,  0.25130879,\n",
              "         0.4712271 ,  0.62254422,  0.65011819,  0.81214038,  0.64370108,\n",
              "         0.75437362,  0.89589452,  0.76708052,  1.05357079,  1.0146414 ]))"
            ]
          },
          "metadata": {},
          "execution_count": 44
        }
      ]
    },
    {
      "cell_type": "code",
      "source": [
        "xx=xx.reshape(-1,ar,1)#Represent x as explained using 10 features that is sampled ony once--> Word vector sequence formulation\n",
        "#Significance --> ten values of the sequence will be feeded together, however \n",
        "# state will be connected with one sample of observation at a time\n",
        "#Additionally the states will be connected with the older states\n",
        "\n",
        "#This goes hand in hand with state equation used in ETS where observations are \n",
        "# mapped #one isntance at a time \n",
        "from tensorflow.keras.models import Model\n",
        "\n",
        "i = layers.Input(shape=(ar, 1))#In simple ANN we had ar, and not 2-D ar,1\n",
        "#  therefore we had ar=10 features input in ANN but here we have 10 data/predictors\n",
        "# but 1 feature\n",
        "x = layers.SimpleRNN(15, activation='relu')(i)\n",
        "x = layers.Dense(1)(x)\n",
        "model = Model(i, x)\n",
        "\n",
        "\n",
        "from tensorflow.keras.utils import plot_model\n",
        "\n",
        "plot_model(\n",
        "    model, to_file='model.png', show_shapes=True, show_dtype=False,\n",
        "    show_layer_names=True, rankdir='TB', expand_nested=False, dpi=96,\n",
        "    layer_range=None, show_layer_activations=False\n",
        ")\n",
        "\n",
        "model.summary()\n",
        "\n"
      ],
      "metadata": {
        "colab": {
          "base_uri": "https://localhost:8080/"
        },
        "id": "XP8XmPjK9xYj",
        "outputId": "db30fd3a-698d-444d-99ed-f19332c13e53"
      },
      "execution_count": 50,
      "outputs": [
        {
          "output_type": "stream",
          "name": "stdout",
          "text": [
            "Model: \"model_1\"\n",
            "_________________________________________________________________\n",
            " Layer (type)                Output Shape              Param #   \n",
            "=================================================================\n",
            " input_9 (InputLayer)        [(None, 10, 1)]           0         \n",
            "                                                                 \n",
            " simple_rnn_8 (SimpleRNN)    (None, 15)                255       \n",
            "                                                                 \n",
            " dense_8 (Dense)             (None, 1)                 16        \n",
            "                                                                 \n",
            "=================================================================\n",
            "Total params: 271\n",
            "Trainable params: 271\n",
            "Non-trainable params: 0\n",
            "_________________________________________________________________\n"
          ]
        }
      ]
    },
    {
      "cell_type": "code",
      "source": [
        "#RNN params --> 15*15=225 + 15*1(1 input sample*15 layers for wxh) +15 (biases)"
      ],
      "metadata": {
        "id": "OwSUDVC_-_Ui"
      },
      "execution_count": 51,
      "outputs": []
    },
    {
      "cell_type": "code",
      "source": [
        ""
      ],
      "metadata": {
        "id": "f_MNx3ldCBh4"
      },
      "execution_count": null,
      "outputs": []
    }
  ]
}